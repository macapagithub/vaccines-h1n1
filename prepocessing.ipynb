{
  "nbformat": 4,
  "nbformat_minor": 0,
  "metadata": {
    "colab": {
      "provenance": [],
      "authorship_tag": "ABX9TyNnZSPJxfAaKhm9aWR2BXxb",
      "include_colab_link": true
    },
    "kernelspec": {
      "name": "python3",
      "display_name": "Python 3"
    },
    "language_info": {
      "name": "python"
    }
  },
  "cells": [
    {
      "cell_type": "markdown",
      "metadata": {
        "id": "view-in-github",
        "colab_type": "text"
      },
      "source": [
        "<a href=\"https://colab.research.google.com/github/macapagithub/vaccines-h1n1/blob/main/prepocessing.ipynb\" target=\"_parent\"><img src=\"https://colab.research.google.com/assets/colab-badge.svg\" alt=\"Open In Colab\"/></a>"
      ]
    },
    {
      "cell_type": "markdown",
      "source": [
        "#Proyecto Técnicas para la Ciencia de Datos"
      ],
      "metadata": {
        "id": "YJzYo0iPz3qA"
      }
    },
    {
      "cell_type": "markdown",
      "source": [
        "##Descripción del Problema"
      ],
      "metadata": {
        "id": "gi8SQIXKz3-F"
      }
    },
    {
      "cell_type": "markdown",
      "source": [
        "El objetivo del problema, es predecir la probabilidad de que las personas reciban sus vacunas contra la griba estacional y H1N1.\n",
        "\n",
        "Cada fila del conjunto de datos, representa a una persona que respondió a una encuesta en Estados Unidos, sobre la gripa estacional y la gripe H1N1 de 2009. \n",
        "\n",
        "El problema es planteado en una competencia por la plataforma [**Data Driven**](https://www.drivendata.org/). El nombre de la competencia es [Flu Shot Learning: Predict H1N1 and Seasonal Flu Vaccines](https://www.drivendata.org/competitions/66/flu-shot-learning/), que es de donde provienen los datos.\n"
      ],
      "metadata": {
        "id": "ffZSC_I_5HLO"
      }
    },
    {
      "cell_type": "markdown",
      "source": [
        "La competencia está en ingles, por tanto no voy a traducir la mayoria de las variables, para no cambiar el significado de las variables o, realizar una mala traducción. Para está competición hay dos variables objetivos:\n",
        "\n",
        "* h1n1_vaccine - Whether respondent received H1N1 flu vaccine.\n",
        "* seasonal_vaccine - Whether respondent received seasonal flu vaccine.\n",
        "\n",
        "Ambas son variables binarias: 0 = No; 1 = si.\n",
        "\n",
        "Algunos recibieron ambas vacunas, o solo una de ellas.\n",
        "\n",
        "El conjunto de datos tiene 36 columnas y, la primera de ellas es el id. El resto de las variables que son binarias, son: 0 = No; 1 = Yes. En general, las variables son las siguientes:\n",
        "\n",
        "* *h1n1_concern* - Nivel de preocupación por la gripa H1N1.\n",
        "  * 0 = Nada preocupado; 1 = No muy preocupado; 2 = Algo preocupado; 3 = Muy preocupado.\n",
        "* *h1n1_knowledge* - Nivel de conocimiento a cerca de H1N1.\n",
        "  * 0 = Nada de conocimiento; 1 = Un poco de conocomiento; 2 = Mucho conocimiento.\n",
        "* *behavioral_antiviral_meds* - Ha tomado medicamentos antivirales. (binary)\n",
        "* *behavioral_avoidance* - Ha evitado contacto cercano con alguien con sintimas de gripa. (binary)\n",
        "* *behavioral_face_mask* - Ha comprado mascarilla. (binary)\n",
        "* *behavioral_wash_hands* - Se ha lavado las manos de manera frecuente o ha usado desinfectante. (binary)\n",
        "* *behavioral_large_gatherings* -  Ha reducio el tiempo de grandes reuniones. (binary)\n",
        "* *behavioral_outside_home* - Ha reducido el contacto con personas fuera de hogar. (binary)\n",
        "* *behavioral_touch_face* -  Ha evitado tocarse los ojos, la nariz y la boca. (binary)\n",
        "* *doctor_recc_h1n1* - El medico te recomendó la vacuna H1N1. (binary)\n",
        "* *doctor_recc_seasonal* - El medico recomendó la vacuna estacional. (binary)\n",
        "* *chronic_med_condition* - Tiene alguna de las siguientes afecciones médicas crónicas: asma u afección pulmonar, diabetes, afección cardíaca, afección renal, anemia, afección neurológica, afección hepática. (binary)\n",
        "* *child_under_6_months* - Tiene contacto cercano regular con un niño menor de seis meses. (binary)\n",
        "* *health_worker* - Es un trabajador de la salud. (binary)\n",
        "* *health_insurance* - Tiene seguro de salud. (binary)\n",
        "* *opinion_h1n1_vacc_effective* - Opinion sobre la efectividad de la vacuna.\n",
        "  * 1 = Nada eficaz; 2 = No muy eficaz ; 3 = No sé; 4 = Algo efectivo; 5 = Muy efica.\n",
        "* *opinion_h1n1_risk* - Opinion sobre enfermarse por la gripa H1N1 sin la vacuna.\n",
        "  * 1 = Muy bajo; 2 = Algo bajo; 3 = No sabe; 4 = Algo alto; 5 = Muy alto.\n",
        "* *opinion_h1n1_sick_from_vacc* - La preocupación de enfermarse por recibir la vacuna H1N1..\n",
        "1 = Nada preocupado; 2 = No muy preocupado; 3 = No sabe; 4 = Algo preocudo; 5 = Muy preocupado.\n",
        "* *opinion_seas_vacc_effective* - Opinión del encuestado sobre la efectividad de la vacuna contra la gripa estacional.\n",
        "1 = Nada efica; 2 = No muy efectivo; 3 = No sabe; 4 = Algo efectivo; 5 = Muy efectivo.\n",
        "\n",
        "\n",
        "\n",
        "------------------------------------------\n",
        "opinion_seas_risk - Respondent's opinion about risk of getting sick with seasonal flu without vaccine.\n",
        "1 = Very Low; 2 = Somewhat low; 3 = Don't know; 4 = Somewhat high; 5 = Very high.\n",
        "opinion_seas_sick_from_vacc - Respondent's worry of getting sick from taking seasonal flu vaccine.\n",
        "1 = Not at all worried; 2 = Not very worried; 3 = Don't know; 4 = Somewhat worried; 5 = Very worried.\n",
        "age_group - Age group of respondent.\n",
        "education - Self-reported education level.\n",
        "race - Race of respondent.\n",
        "sex - Sex of respondent.\n",
        "income_poverty - Household annual income of respondent with respect to 2008 Census poverty thresholds.\n",
        "marital_status - Marital status of respondent.\n",
        "rent_or_own - Housing situation of respondent.\n",
        "employment_status - Employment status of respondent.\n",
        "hhs_geo_region - Respondent's residence using a 10-region geographic classification defined by the U.S. Dept. of Health and Human Services. Values are represented as short random character strings.\n",
        "census_msa - Respondent's residence within metropolitan statistical areas (MSA) as defined by the U.S. Census.\n",
        "household_adults - Number of other adults in household, top-coded to 3.\n",
        "household_children - Number of children in household, top-coded to 3.\n",
        "employment_industry - Type of industry respondent is employed in. Values are represented as short random character strings.\n",
        "employment_occupation - Type of occupation of respondent. Values are represented as short random character strings."
      ],
      "metadata": {
        "id": "xtUV3WJuC6G4"
      }
    },
    {
      "cell_type": "code",
      "source": [],
      "metadata": {
        "id": "Ja7V3z6mN8cf"
      },
      "execution_count": null,
      "outputs": []
    },
    {
      "cell_type": "markdown",
      "source": [
        "Carga de librerias y Datos"
      ],
      "metadata": {
        "id": "X3DTrEVZYRg8"
      }
    },
    {
      "cell_type": "code",
      "execution_count": 1,
      "metadata": {
        "id": "-RUyk2WoHtGB"
      },
      "outputs": [],
      "source": [
        "import requests\n",
        "import numpy as np\n",
        "import pandas as pd\n",
        "import seaborn as sns\n",
        "import matplotlib.pyplot as plt\n",
        "%matplotlib inline\n",
        "from pathlib import Path\n",
        "from sklearn import *\n",
        "pd.set_option(\"display.max_columns\", 100)"
      ]
    },
    {
      "cell_type": "code",
      "source": [
        "url_train_labels = 'https://raw.githubusercontent.com/macapagithub/vaccines-h1n1/main/data/training_set_labels.csv'\n",
        "url_train_features = 'https://raw.githubusercontent.com/macapagithub/vaccines-h1n1/main/data/training_set_features.csv'\n",
        "url_test_features = 'https://raw.githubusercontent.com/macapagithub/vaccines-h1n1/main/data/test_set_features.csv'"
      ],
      "metadata": {
        "id": "KI7mBc93IShf"
      },
      "execution_count": 2,
      "outputs": []
    },
    {
      "cell_type": "code",
      "source": [
        "test_features_df = pd.read_csv(url_test_features)\n",
        "train_features_df = pd.read_csv(url_train_features)\n",
        "train_labels_df = pd.read_csv(url_train_labels)"
      ],
      "metadata": {
        "id": "kJ4VIe6UJH2P"
      },
      "execution_count": 3,
      "outputs": []
    },
    {
      "cell_type": "code",
      "source": [],
      "metadata": {
        "id": "6d-2ZozyQYbl"
      },
      "execution_count": 3,
      "outputs": []
    },
    {
      "cell_type": "markdown",
      "source": [
        "Analisamos los datos."
      ],
      "metadata": {
        "id": "S9BWwPx0Ojre"
      }
    },
    {
      "cell_type": "code",
      "source": [
        "fig, ax = plt.subplots(2, 1, sharex=True)\n",
        "\n",
        "n_obs = train_labels_df.shape[0]\n",
        "\n",
        "(train_labels_df['h1n1_vaccine']\n",
        "    .value_counts()\n",
        "    .div(n_obs)\n",
        "    .plot.barh(title=\"Proportion of H1N1 Vaccine\", ax=ax[0])\n",
        ")\n",
        "ax[0].set_ylabel(\"h1n1_vaccine\")\n",
        "\n",
        "(train_labels_df['seasonal_vaccine']\n",
        "    .value_counts()\n",
        "    .div(n_obs)\n",
        "    .plot.barh(title=\"Proportion of Seasonal Vaccine\", ax=ax[1])\n",
        ")\n",
        "ax[1].set_ylabel(\"seasonal_vaccine\")\n",
        "fig.tight_layout()"
      ],
      "metadata": {
        "colab": {
          "base_uri": "https://localhost:8080/",
          "height": 297
        },
        "id": "yEOUuRSWJbvG",
        "outputId": "80f2e4b0-d85b-44f3-b415-a9b54f9f40db"
      },
      "execution_count": 4,
      "outputs": [
        {
          "output_type": "display_data",
          "data": {
            "text/plain": [
              "<Figure size 432x288 with 2 Axes>"
            ],
            "image/png": "[encoded data removed]"
          },
          "metadata": {
            "needs_background": "light"
          }
        }
      ]
    },
    {
      "cell_type": "code",
      "source": [
        "sns.countplot(x=train_labels_df.h1n1_vaccine, data=train_labels_df)"
      ],
      "metadata": {
        "colab": {
          "base_uri": "https://localhost:8080/",
          "height": 297
        },
        "id": "nMr1bQDeGkUP",
        "outputId": "d6ba46fb-122d-436e-a3c8-7024808dfeba"
      },
      "execution_count": 5,
      "outputs": [
        {
          "output_type": "execute_result",
          "data": {
            "text/plain": [
              "<matplotlib.axes._subplots.AxesSubplot at 0x7f2cd9f97460>"
            ]
          },
          "metadata": {},
          "execution_count": 5
        },
        {
          "output_type": "display_data",
          "data": {
            "text/plain": [
              "<Figure size 432x288 with 1 Axes>"
            ],
            "image/png": "[encoded data removed]"
          },
          "metadata": {
            "needs_background": "light"
          }
        }
      ]
    },
    {
      "cell_type": "code",
      "source": [
        "sns.countplot(x=train_labels_df.seasonal_vaccine, data=train_labels_df)"
      ],
      "metadata": {
        "colab": {
          "base_uri": "https://localhost:8080/",
          "height": 297
        },
        "id": "ETyZ8ilOGkQ9",
        "outputId": "4bf96e02-e5f1-4831-eeef-1e8b85ed3560"
      },
      "execution_count": 6,
      "outputs": [
        {
          "output_type": "execute_result",
          "data": {
            "text/plain": [
              "<matplotlib.axes._subplots.AxesSubplot at 0x7f2cd7260d60>"
            ]
          },
          "metadata": {},
          "execution_count": 6
        },
        {
          "output_type": "display_data",
          "data": {
            "text/plain": [
              "<Figure size 432x288 with 1 Axes>"
            ],
            "image/png": "[encoded data removed]"
          },
          "metadata": {
            "needs_background": "light"
          }
        }
      ]
    },
    {
      "cell_type": "markdown",
      "source": [
        "Los datos en funciones de la 'seasonal vaccine', están muy cercanas las cantidades. Por el lado de la vacuna H1N1, los datos están desbalanceados, ya que la cantidad de personas no vacunadas por H1N1, son mucho más que los que no. Esto podría tener un sesgo hacia las personas no vacunadas por H1N1."
      ],
      "metadata": {
        "id": "0E8vvyW_Othb"
      }
    },
    {
      "cell_type": "code",
      "source": [
        "joined_df = train_features_df.set_index('respondent_id').join(train_labels_df.set_index('respondent_id'))\n",
        "# print(joined_df.shape)\n",
        "# joined_df.head()\n",
        "\n",
        "counts = (joined_df[['h1n1_concern', 'h1n1_vaccine']]\n",
        "              .groupby(['h1n1_concern', 'h1n1_vaccine'])\n",
        "              .size()\n",
        "              .unstack('h1n1_vaccine')\n",
        "         )"
      ],
      "metadata": {
        "id": "6kXNciBZQLJV"
      },
      "execution_count": 7,
      "outputs": []
    },
    {
      "cell_type": "code",
      "source": [
        "joined_df.head()"
      ],
      "metadata": {
        "colab": {
          "base_uri": "https://localhost:8080/",
          "height": 458
        },
        "id": "V07H1gSzQhin",
        "outputId": "4e9a698b-4387-4f76-9b7c-73f2254c29fc"
      },
      "execution_count": 8,
      "outputs": [
        {
          "output_type": "execute_result",
          "data": {
            "text/plain": [
              "               h1n1_concern  h1n1_knowledge  behavioral_antiviral_meds  \\\n",
              "respondent_id                                                            \n",
              "0                       1.0             0.0                        0.0   \n",
              "1                       3.0             2.0                        0.0   \n",
              "2                       1.0             1.0                        0.0   \n",
              "3                       1.0             1.0                        0.0   \n",
              "4                       2.0             1.0                        0.0   \n",
              "\n",
              "               behavioral_avoidance  behavioral_face_mask  \\\n",
              "respondent_id                                               \n",
              "0                               0.0                   0.0   \n",
              "1                               1.0                   0.0   \n",
              "2                               1.0                   0.0   \n",
              "3                               1.0                   0.0   \n",
              "4                               1.0                   0.0   \n",
              "\n",
              "               behavioral_wash_hands  behavioral_large_gatherings  \\\n",
              "respondent_id                                                       \n",
              "0                                0.0                          0.0   \n",
              "1                                1.0                          0.0   \n",
              "2                                0.0                          0.0   \n",
              "3                                1.0                          1.0   \n",
              "4                                1.0                          1.0   \n",
              "\n",
              "               behavioral_outside_home  behavioral_touch_face  \\\n",
              "respondent_id                                                   \n",
              "0                                  1.0                    1.0   \n",
              "1                                  1.0                    1.0   \n",
              "2                                  0.0                    0.0   \n",
              "3                                  0.0                    0.0   \n",
              "4                                  0.0                    1.0   \n",
              "\n",
              "               doctor_recc_h1n1  doctor_recc_seasonal  chronic_med_condition  \\\n",
              "respondent_id                                                                  \n",
              "0                           0.0                   0.0                    0.0   \n",
              "1                           0.0                   0.0                    0.0   \n",
              "2                           NaN                   NaN                    1.0   \n",
              "3                           0.0                   1.0                    1.0   \n",
              "4                           0.0                   0.0                    0.0   \n",
              "\n",
              "               child_under_6_months  health_worker  health_insurance  \\\n",
              "respondent_id                                                          \n",
              "0                               0.0            0.0               1.0   \n",
              "1                               0.0            0.0               1.0   \n",
              "2                               0.0            0.0               NaN   \n",
              "3                               0.0            0.0               NaN   \n",
              "4                               0.0            0.0               NaN   \n",
              "\n",
              "               opinion_h1n1_vacc_effective  opinion_h1n1_risk  \\\n",
              "respondent_id                                                   \n",
              "0                                      3.0                1.0   \n",
              "1                                      5.0                4.0   \n",
              "2                                      3.0                1.0   \n",
              "3                                      3.0                3.0   \n",
              "4                                      3.0                3.0   \n",
              "\n",
              "               opinion_h1n1_sick_from_vacc  opinion_seas_vacc_effective  \\\n",
              "respondent_id                                                             \n",
              "0                                      2.0                          2.0   \n",
              "1                                      4.0                          4.0   \n",
              "2                                      1.0                          4.0   \n",
              "3                                      5.0                          5.0   \n",
              "4                                      2.0                          3.0   \n",
              "\n",
              "               opinion_seas_risk  opinion_seas_sick_from_vacc      age_group  \\\n",
              "respondent_id                                                                  \n",
              "0                            1.0                          2.0  55 - 64 Years   \n",
              "1                            2.0                          4.0  35 - 44 Years   \n",
              "2                            1.0                          2.0  18 - 34 Years   \n",
              "3                            4.0                          1.0      65+ Years   \n",
              "4                            1.0                          4.0  45 - 54 Years   \n",
              "\n",
              "                      education   race     sex             income_poverty  \\\n",
              "respondent_id                                                               \n",
              "0                    < 12 Years  White  Female              Below Poverty   \n",
              "1                      12 Years  White    Male              Below Poverty   \n",
              "2              College Graduate  White    Male  <= $75,000, Above Poverty   \n",
              "3                      12 Years  White  Female              Below Poverty   \n",
              "4                  Some College  White  Female  <= $75,000, Above Poverty   \n",
              "\n",
              "              marital_status rent_or_own   employment_status hhs_geo_region  \\\n",
              "respondent_id                                                                 \n",
              "0                Not Married         Own  Not in Labor Force       oxchjgsf   \n",
              "1                Not Married        Rent            Employed       bhuqouqj   \n",
              "2                Not Married         Own            Employed       qufhixun   \n",
              "3                Not Married        Rent  Not in Labor Force       lrircsnp   \n",
              "4                    Married         Own            Employed       qufhixun   \n",
              "\n",
              "                             census_msa  household_adults  household_children  \\\n",
              "respondent_id                                                                   \n",
              "0                               Non-MSA               0.0                 0.0   \n",
              "1              MSA, Not Principle  City               0.0                 0.0   \n",
              "2              MSA, Not Principle  City               2.0                 0.0   \n",
              "3                   MSA, Principle City               0.0                 0.0   \n",
              "4              MSA, Not Principle  City               1.0                 0.0   \n",
              "\n",
              "              employment_industry employment_occupation  h1n1_vaccine  \\\n",
              "respondent_id                                                           \n",
              "0                             NaN                   NaN             0   \n",
              "1                        pxcmvdjn              xgwztkwe             0   \n",
              "2                        rucpziij              xtkaffoo             0   \n",
              "3                             NaN                   NaN             0   \n",
              "4                        wxleyezf              emcorrxb             0   \n",
              "\n",
              "               seasonal_vaccine  \n",
              "respondent_id                    \n",
              "0                             0  \n",
              "1                             1  \n",
              "2                             0  \n",
              "3                             1  \n",
              "4                             0  "
            ],
            "text/html": [
              "\n",
              "  <div id=\"df-66c8d826-fb67-4e5b-b1ee-c3261454fc15\">\n",
              "    <div class=\"colab-df-container\">\n",
              "      <div>\n",
              "<style scoped>\n",
              "    .dataframe tbody tr th:only-of-type {\n",
              "        vertical-align: middle;\n",
              "    }\n",
              "\n",
              "    .dataframe tbody tr th {\n",
              "        vertical-align: top;\n",
              "    }\n",
              "\n",
              "    .dataframe thead th {\n",
              "        text-align: right;\n",
              "    }\n",
              "</style>\n",
              "<table border=\"1\" class=\"dataframe\">\n",
              "  <thead>\n",
              "    <tr style=\"text-align: right;\">\n",
              "      <th></th>\n",
              "      <th>h1n1_concern</th>\n",
              "      <th>h1n1_knowledge</th>\n",
              "      <th>behavioral_antiviral_meds</th>\n",
              "      <th>behavioral_avoidance</th>\n",
              "      <th>behavioral_face_mask</th>\n",
              "      <th>behavioral_wash_hands</th>\n",
              "      <th>behavioral_large_gatherings</th>\n",
              "      <th>behavioral_outside_home</th>\n",
              "      <th>behavioral_touch_face</th>\n",
              "      <th>doctor_recc_h1n1</th>\n",
              "      <th>doctor_recc_seasonal</th>\n",
              "      <th>chronic_med_condition</th>\n",
              "      <th>child_under_6_months</th>\n",
              "      <th>health_worker</th>\n",
              "      <th>health_insurance</th>\n",
              "      <th>opinion_h1n1_vacc_effective</th>\n",
              "      <th>opinion_h1n1_risk</th>\n",
              "      <th>opinion_h1n1_sick_from_vacc</th>\n",
              "      <th>opinion_seas_vacc_effective</th>\n",
              "      <th>opinion_seas_risk</th>\n",
              "      <th>opinion_seas_sick_from_vacc</th>\n",
              "      <th>age_group</th>\n",
              "      <th>education</th>\n",
              "      <th>race</th>\n",
              "      <th>sex</th>\n",
              "      <th>income_poverty</th>\n",
              "      <th>marital_status</th>\n",
              "      <th>rent_or_own</th>\n",
              "      <th>employment_status</th>\n",
              "      <th>hhs_geo_region</th>\n",
              "      <th>census_msa</th>\n",
              "      <th>household_adults</th>\n",
              "      <th>household_children</th>\n",
              "      <th>employment_industry</th>\n",
              "      <th>employment_occupation</th>\n",
              "      <th>h1n1_vaccine</th>\n",
              "      <th>seasonal_vaccine</th>\n",
              "    </tr>\n",
              "    <tr>\n",
              "      <th>respondent_id</th>\n",
              "      <th></th>\n",
              "      <th></th>\n",
              "      <th></th>\n",
              "      <th></th>\n",
              "      <th></th>\n",
              "      <th></th>\n",
              "      <th></th>\n",
              "      <th></th>\n",
              "      <th></th>\n",
              "      <th></th>\n",
              "      <th></th>\n",
              "      <th></th>\n",
              "      <th></th>\n",
              "      <th></th>\n",
              "      <th></th>\n",
              "      <th></th>\n",
              "      <th></th>\n",
              "      <th></th>\n",
              "      <th></th>\n",
              "      <th></th>\n",
              "      <th></th>\n",
              "      <th></th>\n",
              "      <th></th>\n",
              "      <th></th>\n",
              "      <th></th>\n",
              "      <th></th>\n",
              "      <th></th>\n",
              "      <th></th>\n",
              "      <th></th>\n",
              "      <th></th>\n",
              "      <th></th>\n",
              "      <th></th>\n",
              "      <th></th>\n",
              "      <th></th>\n",
              "      <th></th>\n",
              "      <th></th>\n",
              "      <th></th>\n",
              "    </tr>\n",
              "  </thead>\n",
              "  <tbody>\n",
              "    <tr>\n",
              "      <th>0</th>\n",
              "      <td>1.0</td>\n",
              "      <td>0.0</td>\n",
              "      <td>0.0</td>\n",
              "      <td>0.0</td>\n",
              "      <td>0.0</td>\n",
              "      <td>0.0</td>\n",
              "      <td>0.0</td>\n",
              "      <td>1.0</td>\n",
              "      <td>1.0</td>\n",
              "      <td>0.0</td>\n",
              "      <td>0.0</td>\n",
              "      <td>0.0</td>\n",
              "      <td>0.0</td>\n",
              "      <td>0.0</td>\n",
              "      <td>1.0</td>\n",
              "      <td>3.0</td>\n",
              "      <td>1.0</td>\n",
              "      <td>2.0</td>\n",
              "      <td>2.0</td>\n",
              "      <td>1.0</td>\n",
              "      <td>2.0</td>\n",
              "      <td>55 - 64 Years</td>\n",
              "      <td>&lt; 12 Years</td>\n",
              "      <td>White</td>\n",
              "      <td>Female</td>\n",
              "      <td>Below Poverty</td>\n",
              "      <td>Not Married</td>\n",
              "      <td>Own</td>\n",
              "      <td>Not in Labor Force</td>\n",
              "      <td>oxchjgsf</td>\n",
              "      <td>Non-MSA</td>\n",
              "      <td>0.0</td>\n",
              "      <td>0.0</td>\n",
              "      <td>NaN</td>\n",
              "      <td>NaN</td>\n",
              "      <td>0</td>\n",
              "      <td>0</td>\n",
              "    </tr>\n",
              "    <tr>\n",
              "      <th>1</th>\n",
              "      <td>3.0</td>\n",
              "      <td>2.0</td>\n",
              "      <td>0.0</td>\n",
              "      <td>1.0</td>\n",
              "      <td>0.0</td>\n",
              "      <td>1.0</td>\n",
              "      <td>0.0</td>\n",
              "      <td>1.0</td>\n",
              "      <td>1.0</td>\n",
              "      <td>0.0</td>\n",
              "      <td>0.0</td>\n",
              "      <td>0.0</td>\n",
              "      <td>0.0</td>\n",
              "      <td>0.0</td>\n",
              "      <td>1.0</td>\n",
              "      <td>5.0</td>\n",
              "      <td>4.0</td>\n",
              "      <td>4.0</td>\n",
              "      <td>4.0</td>\n",
              "      <td>2.0</td>\n",
              "      <td>4.0</td>\n",
              "      <td>35 - 44 Years</td>\n",
              "      <td>12 Years</td>\n",
              "      <td>White</td>\n",
              "      <td>Male</td>\n",
              "      <td>Below Poverty</td>\n",
              "      <td>Not Married</td>\n",
              "      <td>Rent</td>\n",
              "      <td>Employed</td>\n",
              "      <td>bhuqouqj</td>\n",
              "      <td>MSA, Not Principle  City</td>\n",
              "      <td>0.0</td>\n",
              "      <td>0.0</td>\n",
              "      <td>pxcmvdjn</td>\n",
              "      <td>xgwztkwe</td>\n",
              "      <td>0</td>\n",
              "      <td>1</td>\n",
              "    </tr>\n",
              "    <tr>\n",
              "      <th>2</th>\n",
              "      <td>1.0</td>\n",
              "      <td>1.0</td>\n",
              "      <td>0.0</td>\n",
              "      <td>1.0</td>\n",
              "      <td>0.0</td>\n",
              "      <td>0.0</td>\n",
              "      <td>0.0</td>\n",
              "      <td>0.0</td>\n",
              "      <td>0.0</td>\n",
              "      <td>NaN</td>\n",
              "      <td>NaN</td>\n",
              "      <td>1.0</td>\n",
              "      <td>0.0</td>\n",
              "      <td>0.0</td>\n",
              "      <td>NaN</td>\n",
              "      <td>3.0</td>\n",
              "      <td>1.0</td>\n",
              "      <td>1.0</td>\n",
              "      <td>4.0</td>\n",
              "      <td>1.0</td>\n",
              "      <td>2.0</td>\n",
              "      <td>18 - 34 Years</td>\n",
              "      <td>College Graduate</td>\n",
              "      <td>White</td>\n",
              "      <td>Male</td>\n",
              "      <td>&lt;= $75,000, Above Poverty</td>\n",
              "      <td>Not Married</td>\n",
              "      <td>Own</td>\n",
              "      <td>Employed</td>\n",
              "      <td>qufhixun</td>\n",
              "      <td>MSA, Not Principle  City</td>\n",
              "      <td>2.0</td>\n",
              "      <td>0.0</td>\n",
              "      <td>rucpziij</td>\n",
              "      <td>xtkaffoo</td>\n",
              "      <td>0</td>\n",
              "      <td>0</td>\n",
              "    </tr>\n",
              "    <tr>\n",
              "      <th>3</th>\n",
              "      <td>1.0</td>\n",
              "      <td>1.0</td>\n",
              "      <td>0.0</td>\n",
              "      <td>1.0</td>\n",
              "      <td>0.0</td>\n",
              "      <td>1.0</td>\n",
              "      <td>1.0</td>\n",
              "      <td>0.0</td>\n",
              "      <td>0.0</td>\n",
              "      <td>0.0</td>\n",
              "      <td>1.0</td>\n",
              "      <td>1.0</td>\n",
              "      <td>0.0</td>\n",
              "      <td>0.0</td>\n",
              "      <td>NaN</td>\n",
              "      <td>3.0</td>\n",
              "      <td>3.0</td>\n",
              "      <td>5.0</td>\n",
              "      <td>5.0</td>\n",
              "      <td>4.0</td>\n",
              "      <td>1.0</td>\n",
              "      <td>65+ Years</td>\n",
              "      <td>12 Years</td>\n",
              "      <td>White</td>\n",
              "      <td>Female</td>\n",
              "      <td>Below Poverty</td>\n",
              "      <td>Not Married</td>\n",
              "      <td>Rent</td>\n",
              "      <td>Not in Labor Force</td>\n",
              "      <td>lrircsnp</td>\n",
              "      <td>MSA, Principle City</td>\n",
              "      <td>0.0</td>\n",
              "      <td>0.0</td>\n",
              "      <td>NaN</td>\n",
              "      <td>NaN</td>\n",
              "      <td>0</td>\n",
              "      <td>1</td>\n",
              "    </tr>\n",
              "    <tr>\n",
              "      <th>4</th>\n",
              "      <td>2.0</td>\n",
              "      <td>1.0</td>\n",
              "      <td>0.0</td>\n",
              "      <td>1.0</td>\n",
              "      <td>0.0</td>\n",
              "      <td>1.0</td>\n",
              "      <td>1.0</td>\n",
              "      <td>0.0</td>\n",
              "      <td>1.0</td>\n",
              "      <td>0.0</td>\n",
              "      <td>0.0</td>\n",
              "      <td>0.0</td>\n",
              "      <td>0.0</td>\n",
              "      <td>0.0</td>\n",
              "      <td>NaN</td>\n",
              "      <td>3.0</td>\n",
              "      <td>3.0</td>\n",
              "      <td>2.0</td>\n",
              "      <td>3.0</td>\n",
              "      <td>1.0</td>\n",
              "      <td>4.0</td>\n",
              "      <td>45 - 54 Years</td>\n",
              "      <td>Some College</td>\n",
              "      <td>White</td>\n",
              "      <td>Female</td>\n",
              "      <td>&lt;= $75,000, Above Poverty</td>\n",
              "      <td>Married</td>\n",
              "      <td>Own</td>\n",
              "      <td>Employed</td>\n",
              "      <td>qufhixun</td>\n",
              "      <td>MSA, Not Principle  City</td>\n",
              "      <td>1.0</td>\n",
              "      <td>0.0</td>\n",
              "      <td>wxleyezf</td>\n",
              "      <td>emcorrxb</td>\n",
              "      <td>0</td>\n",
              "      <td>0</td>\n",
              "    </tr>\n",
              "  </tbody>\n",
              "</table>\n",
              "</div>\n",
              "      <button class=\"colab-df-convert\" onclick=\"convertToInteractive('df-66c8d826-fb67-4e5b-b1ee-c3261454fc15')\"\n",
              "              title=\"Convert this dataframe to an interactive table.\"\n",
              "              style=\"display:none;\">\n",
              "        \n",
              "  <svg xmlns=\"http://www.w3.org/2000/svg\" height=\"24px\"viewBox=\"0 0 24 24\"\n",
              "       width=\"24px\">\n",
              "    <path d=\"M0 0h24v24H0V0z\" fill=\"none\"/>\n",
              "    <path d=\"M18.56 5.44l.94 2.06.94-2.06 2.06-.94-2.06-.94-.94-2.06-.94 2.06-2.06.94zm-11 1L8.5 8.5l.94-2.06 2.06-.94-2.06-.94L8.5 2.5l-.94 2.06-2.06.94zm10 10l.94 2.06.94-2.06 2.06-.94-2.06-.94-.94-2.06-.94 2.06-2.06.94z\"/><path d=\"M17.41 7.96l-1.37-1.37c-.4-.4-.92-.59-1.43-.59-.52 0-1.04.2-1.43.59L10.3 9.45l-7.72 7.72c-.78.78-.78 2.05 0 2.83L4 21.41c.39.39.9.59 1.41.59.51 0 1.02-.2 1.41-.59l7.78-7.78 2.81-2.81c.8-.78.8-2.07 0-2.86zM5.41 20L4 18.59l7.72-7.72 1.47 1.35L5.41 20z\"/>\n",
              "  </svg>\n",
              "      </button>\n",
              "      \n",
              "  <style>\n",
              "    .colab-df-container {\n",
              "      display:flex;\n",
              "      flex-wrap:wrap;\n",
              "      gap: 12px;\n",
              "    }\n",
              "\n",
              "    .colab-df-convert {\n",
              "      background-color: #E8F0FE;\n",
              "      border: none;\n",
              "      border-radius: 50%;\n",
              "      cursor: pointer;\n",
              "      display: none;\n",
              "      fill: #1967D2;\n",
              "      height: 32px;\n",
              "      padding: 0 0 0 0;\n",
              "      width: 32px;\n",
              "    }\n",
              "\n",
              "    .colab-df-convert:hover {\n",
              "      background-color: #E2EBFA;\n",
              "      box-shadow: 0px 1px 2px rgba(60, 64, 67, 0.3), 0px 1px 3px 1px rgba(60, 64, 67, 0.15);\n",
              "      fill: #174EA6;\n",
              "    }\n",
              "\n",
              "    [theme=dark] .colab-df-convert {\n",
              "      background-color: #3B4455;\n",
              "      fill: #D2E3FC;\n",
              "    }\n",
              "\n",
              "    [theme=dark] .colab-df-convert:hover {\n",
              "      background-color: #434B5C;\n",
              "      box-shadow: 0px 1px 3px 1px rgba(0, 0, 0, 0.15);\n",
              "      filter: drop-shadow(0px 1px 2px rgba(0, 0, 0, 0.3));\n",
              "      fill: #FFFFFF;\n",
              "    }\n",
              "  </style>\n",
              "\n",
              "      <script>\n",
              "        const buttonEl =\n",
              "          document.querySelector('#df-66c8d826-fb67-4e5b-b1ee-c3261454fc15 button.colab-df-convert');\n",
              "        buttonEl.style.display =\n",
              "          google.colab.kernel.accessAllowed ? 'block' : 'none';\n",
              "\n",
              "        async function convertToInteractive(key) {\n",
              "          const element = document.querySelector('#df-66c8d826-fb67-4e5b-b1ee-c3261454fc15');\n",
              "          const dataTable =\n",
              "            await google.colab.kernel.invokeFunction('convertToInteractive',\n",
              "                                                     [key], {});\n",
              "          if (!dataTable) return;\n",
              "\n",
              "          const docLinkHtml = 'Like what you see? Visit the ' +\n",
              "            '<a target=\"_blank\" href=https://colab.research.google.com/notebooks/data_table.ipynb>data table notebook</a>'\n",
              "            + ' to learn more about interactive tables.';\n",
              "          element.innerHTML = '';\n",
              "          dataTable['output_type'] = 'display_data';\n",
              "          await google.colab.output.renderOutput(dataTable, element);\n",
              "          const docLink = document.createElement('div');\n",
              "          docLink.innerHTML = docLinkHtml;\n",
              "          element.appendChild(docLink);\n",
              "        }\n",
              "      </script>\n",
              "    </div>\n",
              "  </div>\n",
              "  "
            ]
          },
          "metadata": {},
          "execution_count": 8
        }
      ]
    },
    {
      "cell_type": "code",
      "source": [
        "ax = counts.plot.barh()\n",
        "ax.invert_yaxis()\n",
        "ax.legend(\n",
        "    loc='center right', \n",
        "    bbox_to_anchor=(1.3, 0.5), \n",
        "    title='h1n1_vaccine'\n",
        ")"
      ],
      "metadata": {
        "colab": {
          "base_uri": "https://localhost:8080/",
          "height": 282
        },
        "id": "odLi8JwhLjhw",
        "outputId": "56515944-e5bd-4e24-c614-5154ed184351"
      },
      "execution_count": 9,
      "outputs": [
        {
          "output_type": "execute_result",
          "data": {
            "text/plain": [
              "<matplotlib.legend.Legend at 0x7f2cd72387f0>"
            ]
          },
          "metadata": {},
          "execution_count": 9
        },
        {
          "output_type": "display_data",
          "data": {
            "text/plain": [
              "<Figure size 432x288 with 1 Axes>"
            ],
            "image/png": "[encoded data removed]"
          },
          "metadata": {
            "needs_background": "light"
          }
        }
      ]
    },
    {
      "cell_type": "code",
      "source": [
        "group_counts = counts.sum(axis='columns')\n",
        "props = counts.div(group_counts, axis='index')\n",
        "\n",
        "props.plot(kind=\"barh\", stacked=True, ax=ax)\n",
        "ax.invert_yaxis()\n",
        "ax.legend().remove()"
      ],
      "metadata": {
        "id": "RNU1hMDzTifl"
      },
      "execution_count": 10,
      "outputs": []
    },
    {
      "cell_type": "code",
      "source": [
        "ax = props.plot.barh()\n",
        "ax.invert_yaxis()\n",
        "ax.legend(\n",
        "    loc='center left', \n",
        "    bbox_to_anchor=(1.05, 0.5),\n",
        "    title='h1n1_vaccine'\n",
        ")"
      ],
      "metadata": {
        "colab": {
          "base_uri": "https://localhost:8080/",
          "height": 282
        },
        "id": "htpYFytWLzfN",
        "outputId": "a4414d7a-a61c-42d3-8f6b-fea5d2be71a5"
      },
      "execution_count": 11,
      "outputs": [
        {
          "output_type": "execute_result",
          "data": {
            "text/plain": [
              "<matplotlib.legend.Legend at 0x7f2cd7234640>"
            ]
          },
          "metadata": {},
          "execution_count": 11
        },
        {
          "output_type": "display_data",
          "data": {
            "text/plain": [
              "<Figure size 432x288 with 1 Axes>"
            ],
            "image/png": "[encoded data removed]"
          },
          "metadata": {
            "needs_background": "light"
          }
        }
      ]
    },
    {
      "cell_type": "code",
      "source": [
        "ax = props.plot.barh(stacked=True)\n",
        "ax.invert_yaxis()\n",
        "ax.legend(\n",
        "    loc='center left', \n",
        "    bbox_to_anchor=(1.05, 0.5),\n",
        "    title='h1n1_vaccine'\n",
        ")"
      ],
      "metadata": {
        "colab": {
          "base_uri": "https://localhost:8080/",
          "height": 282
        },
        "id": "oSsJUVOFL2VN",
        "outputId": "89814189-35a2-43f7-84d9-9abf289f10b8"
      },
      "execution_count": 12,
      "outputs": [
        {
          "output_type": "execute_result",
          "data": {
            "text/plain": [
              "<matplotlib.legend.Legend at 0x7f2cd70db040>"
            ]
          },
          "metadata": {},
          "execution_count": 12
        },
        {
          "output_type": "display_data",
          "data": {
            "text/plain": [
              "<Figure size 432x288 with 1 Axes>"
            ],
            "image/png": "[encoded data removed]"
          },
          "metadata": {
            "needs_background": "light"
          }
        }
      ]
    },
    {
      "cell_type": "code",
      "source": [
        "def vaccination_rate_plot(col, target, data, ax=None):\n",
        "    \"\"\"Stacked bar chart of vaccination rate for `target` against \n",
        "    `col`. \n",
        "    \n",
        "    Args:\n",
        "        col (string): column name of feature variable\n",
        "        target (string): column name of target variable\n",
        "        data (pandas DataFrame): dataframe that contains columns \n",
        "            `col` and `target`\n",
        "        ax (matplotlib axes object, optional): matplotlib axes \n",
        "            object to attach plot to\n",
        "    \"\"\"\n",
        "    counts = (joined_df[[target, col]]\n",
        "                  .groupby([target, col])\n",
        "                  .size()\n",
        "                  .unstack(target)\n",
        "             )\n",
        "    group_counts = counts.sum(axis='columns')\n",
        "    props = counts.div(group_counts, axis='index')\n",
        "\n",
        "    props.plot(kind=\"barh\", stacked=True, ax=ax)\n",
        "    ax.invert_yaxis()\n",
        "    ax.legend().remove()"
      ],
      "metadata": {
        "id": "QbVDNajTKpCU"
      },
      "execution_count": 13,
      "outputs": []
    },
    {
      "cell_type": "code",
      "source": [
        "cols_to_plot = [\n",
        "    'h1n1_concern',\n",
        "    'h1n1_knowledge',\n",
        "    'opinion_h1n1_vacc_effective',\n",
        "    'opinion_h1n1_risk',\n",
        "    'opinion_h1n1_sick_from_vacc',\n",
        "    'opinion_seas_vacc_effective',\n",
        "    'opinion_seas_risk',\n",
        "    'opinion_seas_sick_from_vacc',\n",
        "    'sex',\n",
        "    'age_group',\n",
        "    'race',\n",
        "    'census_msa',\n",
        "    'education',\n",
        "    'employment_status',\n",
        "    'hhs_geo_region',\n",
        "    'household_adults',\n",
        "    'household_children',\n",
        "    'marital_status',\n",
        "    'income_poverty',\n",
        "    'rent_or_own'\n",
        "]\n",
        "\n",
        "fig, ax = plt.subplots(\n",
        "    len(cols_to_plot), 2, figsize=(12,len(cols_to_plot)*3)\n",
        ")\n",
        "for idx, col in enumerate(cols_to_plot):\n",
        "    vaccination_rate_plot(\n",
        "        col, 'h1n1_vaccine', joined_df, ax=ax[idx, 0]\n",
        "    )\n",
        "    vaccination_rate_plot(\n",
        "        col, 'seasonal_vaccine', joined_df, ax=ax[idx, 1]\n",
        "    )\n",
        "    \n",
        "ax[0, 0].legend(\n",
        "    loc='lower center', bbox_to_anchor=(0.5, 1.05), title='h1n1_vaccine'\n",
        ")\n",
        "ax[0, 1].legend(\n",
        "    loc='lower center', bbox_to_anchor=(0.5, 1.05), title='seasonal_vaccine'\n",
        ")\n",
        "fig.tight_layout()"
      ],
      "metadata": {
        "colab": {
          "base_uri": "https://localhost:8080/",
          "height": 1000
        },
        "id": "U5T1JSXvKo-m",
        "outputId": "25364a29-1789-42ff-a85c-1f40600e16a1"
      },
      "execution_count": 14,
      "outputs": [
        {
          "output_type": "display_data",
          "data": {
            "text/plain": [
              "<Figure size 864x4320 with 40 Axes>"
            ],
            "image/png": "[encoded data removed]"
          },
          "metadata": {
            "needs_background": "light"
          }
        }
      ]
    },
    {
      "cell_type": "markdown",
      "source": [
        "### Tratamiento dado a los datos y, Modelado."
      ],
      "metadata": {
        "id": "MMiYUduQUr-5"
      }
    },
    {
      "cell_type": "code",
      "source": [
        "train_features_df.dtypes"
      ],
      "metadata": {
        "colab": {
          "base_uri": "https://localhost:8080/"
        },
        "id": "CdDhLBzDJiN0",
        "outputId": "ec39785d-fce8-45b2-b72f-c8bbed3eff6f"
      },
      "execution_count": 15,
      "outputs": [
        {
          "output_type": "execute_result",
          "data": {
            "text/plain": [
              "respondent_id                    int64\n",
              "h1n1_concern                   float64\n",
              "h1n1_knowledge                 float64\n",
              "behavioral_antiviral_meds      float64\n",
              "behavioral_avoidance           float64\n",
              "behavioral_face_mask           float64\n",
              "behavioral_wash_hands          float64\n",
              "behavioral_large_gatherings    float64\n",
              "behavioral_outside_home        float64\n",
              "behavioral_touch_face          float64\n",
              "doctor_recc_h1n1               float64\n",
              "doctor_recc_seasonal           float64\n",
              "chronic_med_condition          float64\n",
              "child_under_6_months           float64\n",
              "health_worker                  float64\n",
              "health_insurance               float64\n",
              "opinion_h1n1_vacc_effective    float64\n",
              "opinion_h1n1_risk              float64\n",
              "opinion_h1n1_sick_from_vacc    float64\n",
              "opinion_seas_vacc_effective    float64\n",
              "opinion_seas_risk              float64\n",
              "opinion_seas_sick_from_vacc    float64\n",
              "age_group                       object\n",
              "education                       object\n",
              "race                            object\n",
              "sex                             object\n",
              "income_poverty                  object\n",
              "marital_status                  object\n",
              "rent_or_own                     object\n",
              "employment_status               object\n",
              "hhs_geo_region                  object\n",
              "census_msa                      object\n",
              "household_adults               float64\n",
              "household_children             float64\n",
              "employment_industry             object\n",
              "employment_occupation           object\n",
              "dtype: object"
            ]
          },
          "metadata": {},
          "execution_count": 15
        }
      ]
    },
    {
      "cell_type": "code",
      "source": [],
      "metadata": {
        "id": "7CXJwH4AJorO"
      },
      "execution_count": 15,
      "outputs": []
    },
    {
      "cell_type": "code",
      "source": [
        "joined_df = train_features_df.set_index('respondent_id').join(train_labels_df.set_index('respondent_id'))\n",
        "# joined_df = train_features_df.join(train_labels_df)\n",
        "print(joined_df.shape)\n",
        "joined_df.head(3)"
      ],
      "metadata": {
        "colab": {
          "base_uri": "https://localhost:8080/",
          "height": 343
        },
        "id": "TBkeNCpiJHu5",
        "outputId": "44b7aa0b-d206-4fd5-da3c-63fa2922b284"
      },
      "execution_count": 16,
      "outputs": [
        {
          "output_type": "stream",
          "name": "stdout",
          "text": [
            "(26707, 37)\n"
          ]
        },
        {
          "output_type": "execute_result",
          "data": {
            "text/plain": [
              "               h1n1_concern  h1n1_knowledge  behavioral_antiviral_meds  \\\n",
              "respondent_id                                                            \n",
              "0                       1.0             0.0                        0.0   \n",
              "1                       3.0             2.0                        0.0   \n",
              "2                       1.0             1.0                        0.0   \n",
              "\n",
              "               behavioral_avoidance  behavioral_face_mask  \\\n",
              "respondent_id                                               \n",
              "0                               0.0                   0.0   \n",
              "1                               1.0                   0.0   \n",
              "2                               1.0                   0.0   \n",
              "\n",
              "               behavioral_wash_hands  behavioral_large_gatherings  \\\n",
              "respondent_id                                                       \n",
              "0                                0.0                          0.0   \n",
              "1                                1.0                          0.0   \n",
              "2                                0.0                          0.0   \n",
              "\n",
              "               behavioral_outside_home  behavioral_touch_face  \\\n",
              "respondent_id                                                   \n",
              "0                                  1.0                    1.0   \n",
              "1                                  1.0                    1.0   \n",
              "2                                  0.0                    0.0   \n",
              "\n",
              "               doctor_recc_h1n1  doctor_recc_seasonal  chronic_med_condition  \\\n",
              "respondent_id                                                                  \n",
              "0                           0.0                   0.0                    0.0   \n",
              "1                           0.0                   0.0                    0.0   \n",
              "2                           NaN                   NaN                    1.0   \n",
              "\n",
              "               child_under_6_months  health_worker  health_insurance  \\\n",
              "respondent_id                                                          \n",
              "0                               0.0            0.0               1.0   \n",
              "1                               0.0            0.0               1.0   \n",
              "2                               0.0            0.0               NaN   \n",
              "\n",
              "               opinion_h1n1_vacc_effective  opinion_h1n1_risk  \\\n",
              "respondent_id                                                   \n",
              "0                                      3.0                1.0   \n",
              "1                                      5.0                4.0   \n",
              "2                                      3.0                1.0   \n",
              "\n",
              "               opinion_h1n1_sick_from_vacc  opinion_seas_vacc_effective  \\\n",
              "respondent_id                                                             \n",
              "0                                      2.0                          2.0   \n",
              "1                                      4.0                          4.0   \n",
              "2                                      1.0                          4.0   \n",
              "\n",
              "               opinion_seas_risk  opinion_seas_sick_from_vacc      age_group  \\\n",
              "respondent_id                                                                  \n",
              "0                            1.0                          2.0  55 - 64 Years   \n",
              "1                            2.0                          4.0  35 - 44 Years   \n",
              "2                            1.0                          2.0  18 - 34 Years   \n",
              "\n",
              "                      education   race     sex             income_poverty  \\\n",
              "respondent_id                                                               \n",
              "0                    < 12 Years  White  Female              Below Poverty   \n",
              "1                      12 Years  White    Male              Below Poverty   \n",
              "2              College Graduate  White    Male  <= $75,000, Above Poverty   \n",
              "\n",
              "              marital_status rent_or_own   employment_status hhs_geo_region  \\\n",
              "respondent_id                                                                 \n",
              "0                Not Married         Own  Not in Labor Force       oxchjgsf   \n",
              "1                Not Married        Rent            Employed       bhuqouqj   \n",
              "2                Not Married         Own            Employed       qufhixun   \n",
              "\n",
              "                             census_msa  household_adults  household_children  \\\n",
              "respondent_id                                                                   \n",
              "0                               Non-MSA               0.0                 0.0   \n",
              "1              MSA, Not Principle  City               0.0                 0.0   \n",
              "2              MSA, Not Principle  City               2.0                 0.0   \n",
              "\n",
              "              employment_industry employment_occupation  h1n1_vaccine  \\\n",
              "respondent_id                                                           \n",
              "0                             NaN                   NaN             0   \n",
              "1                        pxcmvdjn              xgwztkwe             0   \n",
              "2                        rucpziij              xtkaffoo             0   \n",
              "\n",
              "               seasonal_vaccine  \n",
              "respondent_id                    \n",
              "0                             0  \n",
              "1                             1  \n",
              "2                             0  "
            ],
            "text/html": [
              "\n",
              "  <div id=\"df-e0ff25b0-172f-4bcf-ad31-6d6dbcc66e41\">\n",
              "    <div class=\"colab-df-container\">\n",
              "      <div>\n",
              "<style scoped>\n",
              "    .dataframe tbody tr th:only-of-type {\n",
              "        vertical-align: middle;\n",
              "    }\n",
              "\n",
              "    .dataframe tbody tr th {\n",
              "        vertical-align: top;\n",
              "    }\n",
              "\n",
              "    .dataframe thead th {\n",
              "        text-align: right;\n",
              "    }\n",
              "</style>\n",
              "<table border=\"1\" class=\"dataframe\">\n",
              "  <thead>\n",
              "    <tr style=\"text-align: right;\">\n",
              "      <th></th>\n",
              "      <th>h1n1_concern</th>\n",
              "      <th>h1n1_knowledge</th>\n",
              "      <th>behavioral_antiviral_meds</th>\n",
              "      <th>behavioral_avoidance</th>\n",
              "      <th>behavioral_face_mask</th>\n",
              "      <th>behavioral_wash_hands</th>\n",
              "      <th>behavioral_large_gatherings</th>\n",
              "      <th>behavioral_outside_home</th>\n",
              "      <th>behavioral_touch_face</th>\n",
              "      <th>doctor_recc_h1n1</th>\n",
              "      <th>doctor_recc_seasonal</th>\n",
              "      <th>chronic_med_condition</th>\n",
              "      <th>child_under_6_months</th>\n",
              "      <th>health_worker</th>\n",
              "      <th>health_insurance</th>\n",
              "      <th>opinion_h1n1_vacc_effective</th>\n",
              "      <th>opinion_h1n1_risk</th>\n",
              "      <th>opinion_h1n1_sick_from_vacc</th>\n",
              "      <th>opinion_seas_vacc_effective</th>\n",
              "      <th>opinion_seas_risk</th>\n",
              "      <th>opinion_seas_sick_from_vacc</th>\n",
              "      <th>age_group</th>\n",
              "      <th>education</th>\n",
              "      <th>race</th>\n",
              "      <th>sex</th>\n",
              "      <th>income_poverty</th>\n",
              "      <th>marital_status</th>\n",
              "      <th>rent_or_own</th>\n",
              "      <th>employment_status</th>\n",
              "      <th>hhs_geo_region</th>\n",
              "      <th>census_msa</th>\n",
              "      <th>household_adults</th>\n",
              "      <th>household_children</th>\n",
              "      <th>employment_industry</th>\n",
              "      <th>employment_occupation</th>\n",
              "      <th>h1n1_vaccine</th>\n",
              "      <th>seasonal_vaccine</th>\n",
              "    </tr>\n",
              "    <tr>\n",
              "      <th>respondent_id</th>\n",
              "      <th></th>\n",
              "      <th></th>\n",
              "      <th></th>\n",
              "      <th></th>\n",
              "      <th></th>\n",
              "      <th></th>\n",
              "      <th></th>\n",
              "      <th></th>\n",
              "      <th></th>\n",
              "      <th></th>\n",
              "      <th></th>\n",
              "      <th></th>\n",
              "      <th></th>\n",
              "      <th></th>\n",
              "      <th></th>\n",
              "      <th></th>\n",
              "      <th></th>\n",
              "      <th></th>\n",
              "      <th></th>\n",
              "      <th></th>\n",
              "      <th></th>\n",
              "      <th></th>\n",
              "      <th></th>\n",
              "      <th></th>\n",
              "      <th></th>\n",
              "      <th></th>\n",
              "      <th></th>\n",
              "      <th></th>\n",
              "      <th></th>\n",
              "      <th></th>\n",
              "      <th></th>\n",
              "      <th></th>\n",
              "      <th></th>\n",
              "      <th></th>\n",
              "      <th></th>\n",
              "      <th></th>\n",
              "      <th></th>\n",
              "    </tr>\n",
              "  </thead>\n",
              "  <tbody>\n",
              "    <tr>\n",
              "      <th>0</th>\n",
              "      <td>1.0</td>\n",
              "      <td>0.0</td>\n",
              "      <td>0.0</td>\n",
              "      <td>0.0</td>\n",
              "      <td>0.0</td>\n",
              "      <td>0.0</td>\n",
              "      <td>0.0</td>\n",
              "      <td>1.0</td>\n",
              "      <td>1.0</td>\n",
              "      <td>0.0</td>\n",
              "      <td>0.0</td>\n",
              "      <td>0.0</td>\n",
              "      <td>0.0</td>\n",
              "      <td>0.0</td>\n",
              "      <td>1.0</td>\n",
              "      <td>3.0</td>\n",
              "      <td>1.0</td>\n",
              "      <td>2.0</td>\n",
              "      <td>2.0</td>\n",
              "      <td>1.0</td>\n",
              "      <td>2.0</td>\n",
              "      <td>55 - 64 Years</td>\n",
              "      <td>&lt; 12 Years</td>\n",
              "      <td>White</td>\n",
              "      <td>Female</td>\n",
              "      <td>Below Poverty</td>\n",
              "      <td>Not Married</td>\n",
              "      <td>Own</td>\n",
              "      <td>Not in Labor Force</td>\n",
              "      <td>oxchjgsf</td>\n",
              "      <td>Non-MSA</td>\n",
              "      <td>0.0</td>\n",
              "      <td>0.0</td>\n",
              "      <td>NaN</td>\n",
              "      <td>NaN</td>\n",
              "      <td>0</td>\n",
              "      <td>0</td>\n",
              "    </tr>\n",
              "    <tr>\n",
              "      <th>1</th>\n",
              "      <td>3.0</td>\n",
              "      <td>2.0</td>\n",
              "      <td>0.0</td>\n",
              "      <td>1.0</td>\n",
              "      <td>0.0</td>\n",
              "      <td>1.0</td>\n",
              "      <td>0.0</td>\n",
              "      <td>1.0</td>\n",
              "      <td>1.0</td>\n",
              "      <td>0.0</td>\n",
              "      <td>0.0</td>\n",
              "      <td>0.0</td>\n",
              "      <td>0.0</td>\n",
              "      <td>0.0</td>\n",
              "      <td>1.0</td>\n",
              "      <td>5.0</td>\n",
              "      <td>4.0</td>\n",
              "      <td>4.0</td>\n",
              "      <td>4.0</td>\n",
              "      <td>2.0</td>\n",
              "      <td>4.0</td>\n",
              "      <td>35 - 44 Years</td>\n",
              "      <td>12 Years</td>\n",
              "      <td>White</td>\n",
              "      <td>Male</td>\n",
              "      <td>Below Poverty</td>\n",
              "      <td>Not Married</td>\n",
              "      <td>Rent</td>\n",
              "      <td>Employed</td>\n",
              "      <td>bhuqouqj</td>\n",
              "      <td>MSA, Not Principle  City</td>\n",
              "      <td>0.0</td>\n",
              "      <td>0.0</td>\n",
              "      <td>pxcmvdjn</td>\n",
              "      <td>xgwztkwe</td>\n",
              "      <td>0</td>\n",
              "      <td>1</td>\n",
              "    </tr>\n",
              "    <tr>\n",
              "      <th>2</th>\n",
              "      <td>1.0</td>\n",
              "      <td>1.0</td>\n",
              "      <td>0.0</td>\n",
              "      <td>1.0</td>\n",
              "      <td>0.0</td>\n",
              "      <td>0.0</td>\n",
              "      <td>0.0</td>\n",
              "      <td>0.0</td>\n",
              "      <td>0.0</td>\n",
              "      <td>NaN</td>\n",
              "      <td>NaN</td>\n",
              "      <td>1.0</td>\n",
              "      <td>0.0</td>\n",
              "      <td>0.0</td>\n",
              "      <td>NaN</td>\n",
              "      <td>3.0</td>\n",
              "      <td>1.0</td>\n",
              "      <td>1.0</td>\n",
              "      <td>4.0</td>\n",
              "      <td>1.0</td>\n",
              "      <td>2.0</td>\n",
              "      <td>18 - 34 Years</td>\n",
              "      <td>College Graduate</td>\n",
              "      <td>White</td>\n",
              "      <td>Male</td>\n",
              "      <td>&lt;= $75,000, Above Poverty</td>\n",
              "      <td>Not Married</td>\n",
              "      <td>Own</td>\n",
              "      <td>Employed</td>\n",
              "      <td>qufhixun</td>\n",
              "      <td>MSA, Not Principle  City</td>\n",
              "      <td>2.0</td>\n",
              "      <td>0.0</td>\n",
              "      <td>rucpziij</td>\n",
              "      <td>xtkaffoo</td>\n",
              "      <td>0</td>\n",
              "      <td>0</td>\n",
              "    </tr>\n",
              "  </tbody>\n",
              "</table>\n",
              "</div>\n",
              "      <button class=\"colab-df-convert\" onclick=\"convertToInteractive('df-e0ff25b0-172f-4bcf-ad31-6d6dbcc66e41')\"\n",
              "              title=\"Convert this dataframe to an interactive table.\"\n",
              "              style=\"display:none;\">\n",
              "        \n",
              "  <svg xmlns=\"http://www.w3.org/2000/svg\" height=\"24px\"viewBox=\"0 0 24 24\"\n",
              "       width=\"24px\">\n",
              "    <path d=\"M0 0h24v24H0V0z\" fill=\"none\"/>\n",
              "    <path d=\"M18.56 5.44l.94 2.06.94-2.06 2.06-.94-2.06-.94-.94-2.06-.94 2.06-2.06.94zm-11 1L8.5 8.5l.94-2.06 2.06-.94-2.06-.94L8.5 2.5l-.94 2.06-2.06.94zm10 10l.94 2.06.94-2.06 2.06-.94-2.06-.94-.94-2.06-.94 2.06-2.06.94z\"/><path d=\"M17.41 7.96l-1.37-1.37c-.4-.4-.92-.59-1.43-.59-.52 0-1.04.2-1.43.59L10.3 9.45l-7.72 7.72c-.78.78-.78 2.05 0 2.83L4 21.41c.39.39.9.59 1.41.59.51 0 1.02-.2 1.41-.59l7.78-7.78 2.81-2.81c.8-.78.8-2.07 0-2.86zM5.41 20L4 18.59l7.72-7.72 1.47 1.35L5.41 20z\"/>\n",
              "  </svg>\n",
              "      </button>\n",
              "      \n",
              "  <style>\n",
              "    .colab-df-container {\n",
              "      display:flex;\n",
              "      flex-wrap:wrap;\n",
              "      gap: 12px;\n",
              "    }\n",
              "\n",
              "    .colab-df-convert {\n",
              "      background-color: #E8F0FE;\n",
              "      border: none;\n",
              "      border-radius: 50%;\n",
              "      cursor: pointer;\n",
              "      display: none;\n",
              "      fill: #1967D2;\n",
              "      height: 32px;\n",
              "      padding: 0 0 0 0;\n",
              "      width: 32px;\n",
              "    }\n",
              "\n",
              "    .colab-df-convert:hover {\n",
              "      background-color: #E2EBFA;\n",
              "      box-shadow: 0px 1px 2px rgba(60, 64, 67, 0.3), 0px 1px 3px 1px rgba(60, 64, 67, 0.15);\n",
              "      fill: #174EA6;\n",
              "    }\n",
              "\n",
              "    [theme=dark] .colab-df-convert {\n",
              "      background-color: #3B4455;\n",
              "      fill: #D2E3FC;\n",
              "    }\n",
              "\n",
              "    [theme=dark] .colab-df-convert:hover {\n",
              "      background-color: #434B5C;\n",
              "      box-shadow: 0px 1px 3px 1px rgba(0, 0, 0, 0.15);\n",
              "      filter: drop-shadow(0px 1px 2px rgba(0, 0, 0, 0.3));\n",
              "      fill: #FFFFFF;\n",
              "    }\n",
              "  </style>\n",
              "\n",
              "      <script>\n",
              "        const buttonEl =\n",
              "          document.querySelector('#df-e0ff25b0-172f-4bcf-ad31-6d6dbcc66e41 button.colab-df-convert');\n",
              "        buttonEl.style.display =\n",
              "          google.colab.kernel.accessAllowed ? 'block' : 'none';\n",
              "\n",
              "        async function convertToInteractive(key) {\n",
              "          const element = document.querySelector('#df-e0ff25b0-172f-4bcf-ad31-6d6dbcc66e41');\n",
              "          const dataTable =\n",
              "            await google.colab.kernel.invokeFunction('convertToInteractive',\n",
              "                                                     [key], {});\n",
              "          if (!dataTable) return;\n",
              "\n",
              "          const docLinkHtml = 'Like what you see? Visit the ' +\n",
              "            '<a target=\"_blank\" href=https://colab.research.google.com/notebooks/data_table.ipynb>data table notebook</a>'\n",
              "            + ' to learn more about interactive tables.';\n",
              "          element.innerHTML = '';\n",
              "          dataTable['output_type'] = 'display_data';\n",
              "          await google.colab.output.renderOutput(dataTable, element);\n",
              "          const docLink = document.createElement('div');\n",
              "          docLink.innerHTML = docLinkHtml;\n",
              "          element.appendChild(docLink);\n",
              "        }\n",
              "      </script>\n",
              "    </div>\n",
              "  </div>\n",
              "  "
            ]
          },
          "metadata": {},
          "execution_count": 16
        }
      ]
    },
    {
      "cell_type": "code",
      "source": [
        "print(\"labels_df.shape\", train_labels_df.shape)\n",
        "train_labels_df.head()"
      ],
      "metadata": {
        "colab": {
          "base_uri": "https://localhost:8080/",
          "height": 224
        },
        "id": "RcGqb5k4JiIZ",
        "outputId": "4abc9cb4-a2f8-461d-aa6d-d6cf323cfe9c"
      },
      "execution_count": 17,
      "outputs": [
        {
          "output_type": "stream",
          "name": "stdout",
          "text": [
            "labels_df.shape (26707, 3)\n"
          ]
        },
        {
          "output_type": "execute_result",
          "data": {
            "text/plain": [
              "   respondent_id  h1n1_vaccine  seasonal_vaccine\n",
              "0              0             0                 0\n",
              "1              1             0                 1\n",
              "2              2             0                 0\n",
              "3              3             0                 1\n",
              "4              4             0                 0"
            ],
            "text/html": [
              "\n",
              "  <div id=\"df-e1f2b438-99a3-4a2a-b7c0-7936f0f8e904\">\n",
              "    <div class=\"colab-df-container\">\n",
              "      <div>\n",
              "<style scoped>\n",
              "    .dataframe tbody tr th:only-of-type {\n",
              "        vertical-align: middle;\n",
              "    }\n",
              "\n",
              "    .dataframe tbody tr th {\n",
              "        vertical-align: top;\n",
              "    }\n",
              "\n",
              "    .dataframe thead th {\n",
              "        text-align: right;\n",
              "    }\n",
              "</style>\n",
              "<table border=\"1\" class=\"dataframe\">\n",
              "  <thead>\n",
              "    <tr style=\"text-align: right;\">\n",
              "      <th></th>\n",
              "      <th>respondent_id</th>\n",
              "      <th>h1n1_vaccine</th>\n",
              "      <th>seasonal_vaccine</th>\n",
              "    </tr>\n",
              "  </thead>\n",
              "  <tbody>\n",
              "    <tr>\n",
              "      <th>0</th>\n",
              "      <td>0</td>\n",
              "      <td>0</td>\n",
              "      <td>0</td>\n",
              "    </tr>\n",
              "    <tr>\n",
              "      <th>1</th>\n",
              "      <td>1</td>\n",
              "      <td>0</td>\n",
              "      <td>1</td>\n",
              "    </tr>\n",
              "    <tr>\n",
              "      <th>2</th>\n",
              "      <td>2</td>\n",
              "      <td>0</td>\n",
              "      <td>0</td>\n",
              "    </tr>\n",
              "    <tr>\n",
              "      <th>3</th>\n",
              "      <td>3</td>\n",
              "      <td>0</td>\n",
              "      <td>1</td>\n",
              "    </tr>\n",
              "    <tr>\n",
              "      <th>4</th>\n",
              "      <td>4</td>\n",
              "      <td>0</td>\n",
              "      <td>0</td>\n",
              "    </tr>\n",
              "  </tbody>\n",
              "</table>\n",
              "</div>\n",
              "      <button class=\"colab-df-convert\" onclick=\"convertToInteractive('df-e1f2b438-99a3-4a2a-b7c0-7936f0f8e904')\"\n",
              "              title=\"Convert this dataframe to an interactive table.\"\n",
              "              style=\"display:none;\">\n",
              "        \n",
              "  <svg xmlns=\"http://www.w3.org/2000/svg\" height=\"24px\"viewBox=\"0 0 24 24\"\n",
              "       width=\"24px\">\n",
              "    <path d=\"M0 0h24v24H0V0z\" fill=\"none\"/>\n",
              "    <path d=\"M18.56 5.44l.94 2.06.94-2.06 2.06-.94-2.06-.94-.94-2.06-.94 2.06-2.06.94zm-11 1L8.5 8.5l.94-2.06 2.06-.94-2.06-.94L8.5 2.5l-.94 2.06-2.06.94zm10 10l.94 2.06.94-2.06 2.06-.94-2.06-.94-.94-2.06-.94 2.06-2.06.94z\"/><path d=\"M17.41 7.96l-1.37-1.37c-.4-.4-.92-.59-1.43-.59-.52 0-1.04.2-1.43.59L10.3 9.45l-7.72 7.72c-.78.78-.78 2.05 0 2.83L4 21.41c.39.39.9.59 1.41.59.51 0 1.02-.2 1.41-.59l7.78-7.78 2.81-2.81c.8-.78.8-2.07 0-2.86zM5.41 20L4 18.59l7.72-7.72 1.47 1.35L5.41 20z\"/>\n",
              "  </svg>\n",
              "      </button>\n",
              "      \n",
              "  <style>\n",
              "    .colab-df-container {\n",
              "      display:flex;\n",
              "      flex-wrap:wrap;\n",
              "      gap: 12px;\n",
              "    }\n",
              "\n",
              "    .colab-df-convert {\n",
              "      background-color: #E8F0FE;\n",
              "      border: none;\n",
              "      border-radius: 50%;\n",
              "      cursor: pointer;\n",
              "      display: none;\n",
              "      fill: #1967D2;\n",
              "      height: 32px;\n",
              "      padding: 0 0 0 0;\n",
              "      width: 32px;\n",
              "    }\n",
              "\n",
              "    .colab-df-convert:hover {\n",
              "      background-color: #E2EBFA;\n",
              "      box-shadow: 0px 1px 2px rgba(60, 64, 67, 0.3), 0px 1px 3px 1px rgba(60, 64, 67, 0.15);\n",
              "      fill: #174EA6;\n",
              "    }\n",
              "\n",
              "    [theme=dark] .colab-df-convert {\n",
              "      background-color: #3B4455;\n",
              "      fill: #D2E3FC;\n",
              "    }\n",
              "\n",
              "    [theme=dark] .colab-df-convert:hover {\n",
              "      background-color: #434B5C;\n",
              "      box-shadow: 0px 1px 3px 1px rgba(0, 0, 0, 0.15);\n",
              "      filter: drop-shadow(0px 1px 2px rgba(0, 0, 0, 0.3));\n",
              "      fill: #FFFFFF;\n",
              "    }\n",
              "  </style>\n",
              "\n",
              "      <script>\n",
              "        const buttonEl =\n",
              "          document.querySelector('#df-e1f2b438-99a3-4a2a-b7c0-7936f0f8e904 button.colab-df-convert');\n",
              "        buttonEl.style.display =\n",
              "          google.colab.kernel.accessAllowed ? 'block' : 'none';\n",
              "\n",
              "        async function convertToInteractive(key) {\n",
              "          const element = document.querySelector('#df-e1f2b438-99a3-4a2a-b7c0-7936f0f8e904');\n",
              "          const dataTable =\n",
              "            await google.colab.kernel.invokeFunction('convertToInteractive',\n",
              "                                                     [key], {});\n",
              "          if (!dataTable) return;\n",
              "\n",
              "          const docLinkHtml = 'Like what you see? Visit the ' +\n",
              "            '<a target=\"_blank\" href=https://colab.research.google.com/notebooks/data_table.ipynb>data table notebook</a>'\n",
              "            + ' to learn more about interactive tables.';\n",
              "          element.innerHTML = '';\n",
              "          dataTable['output_type'] = 'display_data';\n",
              "          await google.colab.output.renderOutput(dataTable, element);\n",
              "          const docLink = document.createElement('div');\n",
              "          docLink.innerHTML = docLinkHtml;\n",
              "          element.appendChild(docLink);\n",
              "        }\n",
              "      </script>\n",
              "    </div>\n",
              "  </div>\n",
              "  "
            ]
          },
          "metadata": {},
          "execution_count": 17
        }
      ]
    },
    {
      "cell_type": "code",
      "source": [
        "from sklearn.preprocessing import StandardScaler\n",
        "from sklearn.impute import SimpleImputer\n",
        "from sklearn.compose import ColumnTransformer\n",
        "from sklearn.linear_model import LogisticRegression\n",
        "from sklearn.multioutput import MultiOutputClassifier\n",
        "from sklearn.pipeline import Pipeline\n",
        "from sklearn.model_selection import train_test_split\n",
        "from sklearn.metrics import roc_curve, roc_auc_score\n",
        "RANDOM_SEED = 10"
      ],
      "metadata": {
        "id": "nGqcBVdbJoeO"
      },
      "execution_count": 18,
      "outputs": []
    },
    {
      "cell_type": "code",
      "source": [
        "numeric_cols = train_features_df.columns[train_features_df.dtypes != \"object\"].values\n",
        "print(numeric_cols)\n",
        "print('---'*25)\n",
        "categorical_cols = train_features_df.columns[train_features_df.dtypes == \"object\"].values\n",
        "print(categorical_cols)"
      ],
      "metadata": {
        "colab": {
          "base_uri": "https://localhost:8080/"
        },
        "id": "cEjEYy7NJiAG",
        "outputId": "fd252b97-a870-4b43-bad8-f7f786e2e546"
      },
      "execution_count": 19,
      "outputs": [
        {
          "output_type": "stream",
          "name": "stdout",
          "text": [
            "['respondent_id' 'h1n1_concern' 'h1n1_knowledge'\n",
            " 'behavioral_antiviral_meds' 'behavioral_avoidance' 'behavioral_face_mask'\n",
            " 'behavioral_wash_hands' 'behavioral_large_gatherings'\n",
            " 'behavioral_outside_home' 'behavioral_touch_face' 'doctor_recc_h1n1'\n",
            " 'doctor_recc_seasonal' 'chronic_med_condition' 'child_under_6_months'\n",
            " 'health_worker' 'health_insurance' 'opinion_h1n1_vacc_effective'\n",
            " 'opinion_h1n1_risk' 'opinion_h1n1_sick_from_vacc'\n",
            " 'opinion_seas_vacc_effective' 'opinion_seas_risk'\n",
            " 'opinion_seas_sick_from_vacc' 'household_adults' 'household_children']\n",
            "---------------------------------------------------------------------------\n",
            "['age_group' 'education' 'race' 'sex' 'income_poverty' 'marital_status'\n",
            " 'rent_or_own' 'employment_status' 'hhs_geo_region' 'census_msa'\n",
            " 'employment_industry' 'employment_occupation']\n"
          ]
        }
      ]
    },
    {
      "cell_type": "code",
      "source": [
        "numeric_preprocessing_steps = Pipeline([\n",
        "    ('standard_scaler', StandardScaler()),\n",
        "    ('simple_imputer', SimpleImputer(strategy='median'))\n",
        "])\n",
        "\n",
        "\n",
        "preprocessor = ColumnTransformer(\n",
        "    transformers = [\n",
        "        (\"numeric\", numeric_preprocessing_steps, numeric_cols)\n",
        "    ],\n",
        "    remainder = \"drop\"\n",
        ")"
      ],
      "metadata": {
        "id": "0xNVuyFwMIxW"
      },
      "execution_count": 20,
      "outputs": []
    },
    {
      "cell_type": "code",
      "source": [
        "estimators = MultiOutputClassifier(\n",
        "    estimator=LogisticRegression(random_state=10, penalty=\"l2\", C=1)\n",
        ")"
      ],
      "metadata": {
        "id": "EwnQfpYrMJlX"
      },
      "execution_count": 21,
      "outputs": []
    },
    {
      "cell_type": "code",
      "source": [
        "full_pipeline = Pipeline([\n",
        "    (\"preprocessor\", preprocessor),\n",
        "    (\"estimators\", estimators),\n",
        "])"
      ],
      "metadata": {
        "id": "K-YPXDc5MJiS"
      },
      "execution_count": 22,
      "outputs": []
    },
    {
      "cell_type": "code",
      "source": [
        "full_pipeline"
      ],
      "metadata": {
        "colab": {
          "base_uri": "https://localhost:8080/"
        },
        "id": "U8HUSF8HMXh2",
        "outputId": "79d5ce9c-1f48-460c-d780-d754b3e4cae7"
      },
      "execution_count": 23,
      "outputs": [
        {
          "output_type": "execute_result",
          "data": {
            "text/plain": [
              "Pipeline(steps=[('preprocessor',\n",
              "                 ColumnTransformer(transformers=[('numeric',\n",
              "                                                  Pipeline(steps=[('standard_scaler',\n",
              "                                                                   StandardScaler()),\n",
              "                                                                  ('simple_imputer',\n",
              "                                                                   SimpleImputer(strategy='median'))]),\n",
              "                                                  array(['respondent_id', 'h1n1_concern', 'h1n1_knowledge',\n",
              "       'behavioral_antiviral_meds', 'behavioral_avoidance',\n",
              "       'behavioral_face_mask', 'behavioral_wash_hands',\n",
              "       'behavioral_lar...\n",
              "       'child_under_6_months', 'health_worker', 'health_insurance',\n",
              "       'opinion_h1n1_vacc_effective', 'opinion_h1n1_risk',\n",
              "       'opinion_h1n1_sick_from_vacc', 'opinion_seas_vacc_effective',\n",
              "       'opinion_seas_risk', 'opinion_seas_sick_from_vacc',\n",
              "       'household_adults', 'household_children'], dtype=object))])),\n",
              "                ('estimators',\n",
              "                 MultiOutputClassifier(estimator=LogisticRegression(C=1,\n",
              "                                                                    random_state=10)))])"
            ]
          },
          "metadata": {},
          "execution_count": 23
        }
      ]
    },
    {
      "cell_type": "code",
      "source": [
        "X_train, X_eval, y_train, y_eval = train_test_split(\n",
        "    train_features_df,\n",
        "    train_labels_df,\n",
        "    test_size=0.25,\n",
        "    shuffle=True,\n",
        "    # stratify=labels_df,\n",
        "    random_state=10\n",
        "    )"
      ],
      "metadata": {
        "id": "Iv0yZfYKMZ_d"
      },
      "execution_count": 24,
      "outputs": []
    },
    {
      "cell_type": "code",
      "source": [
        "full_pipeline.fit(X_train, y_train)"
      ],
      "metadata": {
        "id": "X5zvRcVYMvG9"
      },
      "execution_count": null,
      "outputs": []
    },
    {
      "cell_type": "code",
      "source": [
        "y_preds = full_pipeline.predict(X_eval, y_eval)"
      ],
      "metadata": {
        "id": "CScOlpIBXhSU"
      },
      "execution_count": null,
      "outputs": []
    },
    {
      "cell_type": "code",
      "source": [
        "y_preds = pd.DataFrame(\n",
        "    {\n",
        "        \"h1n1_vaccine\": preds[0][:, 1],\n",
        "        \"seasonal_vaccine\": preds[1][:, 1],\n",
        "    },\n",
        "    index = y_eval.index\n",
        ")\n",
        "print(\"y_preds.shape:\", y_preds.shape)\n",
        "y_preds.head()"
      ],
      "metadata": {
        "id": "fEpJ45q6MZ8F"
      },
      "execution_count": null,
      "outputs": []
    },
    {
      "cell_type": "code",
      "source": [
        "def plot_roc(y_true, y_score, label_name, ax):\n",
        "    fpr, tpr, thresholds = roc_curve(y_true, y_score)\n",
        "    ax.plot(fpr, tpr)\n",
        "    ax.plot([0, 1], [0, 1], color='grey', linestyle='--')\n",
        "    ax.set_ylabel('TPR')\n",
        "    ax.set_xlabel('FPR')\n",
        "    ax.set_title(\n",
        "        f\"{label_name}: AUC = {roc_auc_score(y_true, y_score):.4f}\"\n",
        "    )"
      ],
      "metadata": {
        "id": "X6W-_7NrMvJi"
      },
      "execution_count": null,
      "outputs": []
    },
    {
      "cell_type": "code",
      "source": [
        "fig, ax = plt.subplots(1, 2, figsize=(7, 3.5))\n",
        "\n",
        "plot_roc(\n",
        "    y_eval['h1n1_vaccine'], \n",
        "    y_preds['h1n1_vaccine'], \n",
        "    'h1n1_vaccine',\n",
        "    ax=ax[0]\n",
        ")\n",
        "plot_roc(\n",
        "    y_eval['seasonal_vaccine'], \n",
        "    y_preds['seasonal_vaccine'], \n",
        "    'seasonal_vaccine',\n",
        "    ax=ax[1]\n",
        ")\n",
        "fig.tight_layout()"
      ],
      "metadata": {
        "id": "dD8MXArFMxoh"
      },
      "execution_count": null,
      "outputs": []
    },
    {
      "cell_type": "code",
      "source": [
        "test_features_df = pd.read_csv(test_feature_df)\n",
        "test_probas = full_pipeline.predict_proba(test_features_df)\n",
        "test_probas"
      ],
      "metadata": {
        "id": "MJBBI6yJM3a2"
      },
      "execution_count": null,
      "outputs": []
    },
    {
      "cell_type": "code",
      "source": [
        "# submission_df = pd.read_csv(DATA_PATH / \"submission_format.csv\", \n",
        "#                             index_col=\"respondent_id\")"
      ],
      "metadata": {
        "id": "Sp853WHvM3YG"
      },
      "execution_count": null,
      "outputs": []
    },
    {
      "cell_type": "code",
      "source": [],
      "metadata": {
        "id": "fsN2LtUlM8E1"
      },
      "execution_count": null,
      "outputs": []
    },
    {
      "cell_type": "code",
      "source": [],
      "metadata": {
        "id": "c2VrYuWaM7bW"
      },
      "execution_count": null,
      "outputs": []
    },
    {
      "cell_type": "code",
      "source": [],
      "metadata": {
        "id": "P1sgyXSWM7TP"
      },
      "execution_count": null,
      "outputs": []
    },
    {
      "cell_type": "code",
      "source": [],
      "metadata": {
        "id": "ChSz5X4mMXeZ"
      },
      "execution_count": null,
      "outputs": []
    }
  ]
}